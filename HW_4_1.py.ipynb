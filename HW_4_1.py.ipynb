{
 "cells": [
  {
   "cell_type": "code",
   "execution_count": 67,
   "metadata": {
    "collapsed": true
   },
   "outputs": [],
   "source": [
    "import os\n",
    "import numpy as np\n",
    "import json\n",
    "import pandas as pd"
   ]
  },
  {
   "cell_type": "code",
   "execution_count": 68,
   "metadata": {},
   "outputs": [],
   "source": [
    "df_1 = pd.read_json('purchase_data.json')"
   ]
  },
  {
   "cell_type": "code",
   "execution_count": 69,
   "metadata": {},
   "outputs": [
    {
     "data": {
      "text/plain": [
       "Index(['Age', 'Gender', 'Item ID', 'Item Name', 'Price', 'SN'], dtype='object')"
      ]
     },
     "execution_count": 69,
     "metadata": {},
     "output_type": "execute_result"
    }
   ],
   "source": [
    "df_1.columns"
   ]
  },
  {
   "cell_type": "code",
   "execution_count": 70,
   "metadata": {},
   "outputs": [
    {
     "name": "stdout",
     "output_type": "stream",
     "text": [
      "Total Number of Players\n",
      "-----------------------\n",
      "780\n"
     ]
    }
   ],
   "source": [
    "#Player Count\n",
    "    #Total Number of Players\n",
    "total_purchased = df_1['Gender']\n",
    "print('Total Number of Players')\n",
    "print('-----------------------')\n",
    "print(len(total_purchased))"
   ]
  },
  {
   "cell_type": "code",
   "execution_count": 71,
   "metadata": {},
   "outputs": [
    {
     "name": "stdout",
     "output_type": "stream",
     "text": [
      "Unique Items\n",
      "183\n",
      "\n",
      "Average Sales Price\n",
      "2.93119230769\n",
      "\n",
      "Total # of Purchases\n",
      "152\n",
      "\n",
      "Total Amount of Purchases\n",
      "2286.33\n"
     ]
    }
   ],
   "source": [
    "#Purchase Analysis\n",
    "    #Number of Unique Items:\n",
    "Num_Uni_Items = df_1[\"Item ID\"].value_counts() \n",
    "print('Unique Items')\n",
    "print(len(Num_Uni_Items))\n",
    "    #Average Purchase Price\n",
    "AvgPP =(sum(df_1[\"Price\"]))/len(df_1)\n",
    "print (\"\")\n",
    "print(\"Average Sales Price\")\n",
    "print(AvgPP)\n",
    "    #Total Number of Purchases\n",
    "tn_pur = df_1['Price'].value_counts()\n",
    "print (\"\")\n",
    "print(\"Total # of Purchases\")\n",
    "print(len(tn_pur))\n",
    "    #Total Revenue\n",
    "total_rev =(sum(df_1[\"Price\"]))\n",
    "print (\"\")\n",
    "print(\"Total Amount of Purchases\")\n",
    "print(total_rev)"
   ]
  },
  {
   "cell_type": "code",
   "execution_count": 72,
   "metadata": {},
   "outputs": [
    {
     "name": "stdout",
     "output_type": "stream",
     "text": [
      "Male Analysis\n",
      "sum      1867.680000\n",
      "mean        2.950521\n",
      "count     633.000000\n",
      "Name: Price, dtype: float64\n",
      "--------------------\n",
      "Female Anaysis\n",
      "sum      382.910000\n",
      "mean       2.815515\n",
      "count    136.000000\n",
      "Name: Price, dtype: float64\n",
      "--------------------\n",
      "Other / Non-Disclosed Anaysis\n",
      "sum      35.740000\n",
      "mean      3.249091\n",
      "count    11.000000\n",
      "Name: Price, dtype: float64\n"
     ]
    }
   ],
   "source": [
    "#Purchasing Analysis by Gender\n",
    "male1 = df_1[df_1.Gender=='Male'].Price.agg(['sum', 'mean', 'count'])\n",
    "print('Male Analysis')\n",
    "print(male1)\n",
    "female1 =df_1[df_1.Gender=='Female'].Price.agg(['sum', 'mean', 'count'])\n",
    "print('--------------------')\n",
    "print('Female Anaysis')\n",
    "print(female1)\n",
    "other1 =df_1[df_1.Gender=='Other / Non-Disclosed'].Price.agg(['sum', 'mean', 'count'])\n",
    "print('--------------------')\n",
    "print('Other / Non-Disclosed Anaysis')\n",
    "print(other1)"
   ]
  },
  {
   "cell_type": "code",
   "execution_count": 73,
   "metadata": {},
   "outputs": [],
   "source": [
    "# Age Demographics\n",
    "bins = [0,10,15,20,25,30,35,40,45,50]\n",
    "age_groups = ['Elementary','Middle-School','High-School','College', \n",
    "              'NextGen', 'Millennial', 'YGen', 'XGen', 'BabyBoom']"
   ]
  },
  {
   "cell_type": "code",
   "execution_count": 74,
   "metadata": {
    "scrolled": true
   },
   "outputs": [],
   "source": [
    "# Cut postTestScore and place the scores into bins\n",
    "# pd.cut(df_1['Age'], bins, labels=age_groups)"
   ]
  },
  {
   "cell_type": "code",
   "execution_count": 75,
   "metadata": {
    "collapsed": true
   },
   "outputs": [],
   "source": [
    "df_1[\"Age Segment\"] = pd.cut(df_1[\"Age\"], bins, labels=age_groups)\n",
    "#df_1"
   ]
  },
  {
   "cell_type": "code",
   "execution_count": 76,
   "metadata": {},
   "outputs": [
    {
     "data": {
      "text/html": [
       "<div>\n",
       "<style>\n",
       "    .dataframe thead tr:only-child th {\n",
       "        text-align: right;\n",
       "    }\n",
       "\n",
       "    .dataframe thead th {\n",
       "        text-align: left;\n",
       "    }\n",
       "\n",
       "    .dataframe tbody tr th {\n",
       "        vertical-align: top;\n",
       "    }\n",
       "</style>\n",
       "<table border=\"1\" class=\"dataframe\">\n",
       "  <thead>\n",
       "    <tr style=\"text-align: right;\">\n",
       "      <th></th>\n",
       "      <th>count</th>\n",
       "      <th>mean</th>\n",
       "      <th>sum</th>\n",
       "    </tr>\n",
       "    <tr>\n",
       "      <th>Age Segment</th>\n",
       "      <th></th>\n",
       "      <th></th>\n",
       "      <th></th>\n",
       "    </tr>\n",
       "  </thead>\n",
       "  <tbody>\n",
       "    <tr>\n",
       "      <th>Elementary</th>\n",
       "      <td>32</td>\n",
       "      <td>3.019375</td>\n",
       "      <td>96.62</td>\n",
       "    </tr>\n",
       "    <tr>\n",
       "      <th>Middle-School</th>\n",
       "      <td>78</td>\n",
       "      <td>2.873718</td>\n",
       "      <td>224.15</td>\n",
       "    </tr>\n",
       "    <tr>\n",
       "      <th>High-School</th>\n",
       "      <td>184</td>\n",
       "      <td>2.873587</td>\n",
       "      <td>528.74</td>\n",
       "    </tr>\n",
       "    <tr>\n",
       "      <th>College</th>\n",
       "      <td>305</td>\n",
       "      <td>2.959377</td>\n",
       "      <td>902.61</td>\n",
       "    </tr>\n",
       "    <tr>\n",
       "      <th>NextGen</th>\n",
       "      <td>76</td>\n",
       "      <td>2.892368</td>\n",
       "      <td>219.82</td>\n",
       "    </tr>\n",
       "    <tr>\n",
       "      <th>Millennial</th>\n",
       "      <td>58</td>\n",
       "      <td>3.073448</td>\n",
       "      <td>178.26</td>\n",
       "    </tr>\n",
       "    <tr>\n",
       "      <th>YGen</th>\n",
       "      <td>44</td>\n",
       "      <td>2.897500</td>\n",
       "      <td>127.49</td>\n",
       "    </tr>\n",
       "    <tr>\n",
       "      <th>XGen</th>\n",
       "      <td>3</td>\n",
       "      <td>2.880000</td>\n",
       "      <td>8.64</td>\n",
       "    </tr>\n",
       "    <tr>\n",
       "      <th>BabyBoom</th>\n",
       "      <td>0</td>\n",
       "      <td>NaN</td>\n",
       "      <td>NaN</td>\n",
       "    </tr>\n",
       "  </tbody>\n",
       "</table>\n",
       "</div>"
      ],
      "text/plain": [
       "               count      mean     sum\n",
       "Age Segment                           \n",
       "Elementary        32  3.019375   96.62\n",
       "Middle-School     78  2.873718  224.15\n",
       "High-School      184  2.873587  528.74\n",
       "College          305  2.959377  902.61\n",
       "NextGen           76  2.892368  219.82\n",
       "Millennial        58  3.073448  178.26\n",
       "YGen              44  2.897500  127.49\n",
       "XGen               3  2.880000    8.64\n",
       "BabyBoom           0       NaN     NaN"
      ]
     },
     "execution_count": 76,
     "metadata": {},
     "output_type": "execute_result"
    }
   ],
   "source": [
    "# Creating a group based off of the bins\n",
    "pymoli_groups = df_1.groupby(\"Age Segment\")\n",
    "pymoli_groups.Price.agg(['count','mean','sum'])"
   ]
  },
  {
   "cell_type": "code",
   "execution_count": 77,
   "metadata": {},
   "outputs": [
    {
     "data": {
      "text/html": [
       "<div>\n",
       "<style>\n",
       "    .dataframe thead tr:only-child th {\n",
       "        text-align: right;\n",
       "    }\n",
       "\n",
       "    .dataframe thead th {\n",
       "        text-align: left;\n",
       "    }\n",
       "\n",
       "    .dataframe tbody tr th {\n",
       "        vertical-align: top;\n",
       "    }\n",
       "</style>\n",
       "<table border=\"1\" class=\"dataframe\">\n",
       "  <thead>\n",
       "    <tr style=\"text-align: right;\">\n",
       "      <th></th>\n",
       "      <th>count</th>\n",
       "      <th>mean</th>\n",
       "      <th>sum</th>\n",
       "    </tr>\n",
       "    <tr>\n",
       "      <th>SN</th>\n",
       "      <th></th>\n",
       "      <th></th>\n",
       "      <th></th>\n",
       "    </tr>\n",
       "  </thead>\n",
       "  <tbody>\n",
       "    <tr>\n",
       "      <th>Undirrala66</th>\n",
       "      <td>5</td>\n",
       "      <td>3.412000</td>\n",
       "      <td>17.06</td>\n",
       "    </tr>\n",
       "    <tr>\n",
       "      <th>Saedue76</th>\n",
       "      <td>4</td>\n",
       "      <td>3.390000</td>\n",
       "      <td>13.56</td>\n",
       "    </tr>\n",
       "    <tr>\n",
       "      <th>Mindimnya67</th>\n",
       "      <td>4</td>\n",
       "      <td>3.185000</td>\n",
       "      <td>12.74</td>\n",
       "    </tr>\n",
       "    <tr>\n",
       "      <th>Haellysu29</th>\n",
       "      <td>3</td>\n",
       "      <td>4.243333</td>\n",
       "      <td>12.73</td>\n",
       "    </tr>\n",
       "    <tr>\n",
       "      <th>Eoda93</th>\n",
       "      <td>3</td>\n",
       "      <td>3.860000</td>\n",
       "      <td>11.58</td>\n",
       "    </tr>\n",
       "  </tbody>\n",
       "</table>\n",
       "</div>"
      ],
      "text/plain": [
       "             count      mean    sum\n",
       "SN                                 \n",
       "Undirrala66      5  3.412000  17.06\n",
       "Saedue76         4  3.390000  13.56\n",
       "Mindimnya67      4  3.185000  12.74\n",
       "Haellysu29       3  4.243333  12.73\n",
       "Eoda93           3  3.860000  11.58"
      ]
     },
     "execution_count": 77,
     "metadata": {},
     "output_type": "execute_result"
    }
   ],
   "source": [
    "#Top Spenders\n",
    "    # Indentify Top Purchases of games by \"SN'\n",
    "pymoli_groups = df_1.groupby('SN').Price.agg(['count','mean','sum']).sort_values(by='sum', ascending=False)\n",
    "pymoli_groups.head(5)"
   ]
  },
  {
   "cell_type": "code",
   "execution_count": 78,
   "metadata": {},
   "outputs": [
    {
     "data": {
      "text/html": [
       "<div>\n",
       "<style>\n",
       "    .dataframe thead tr:only-child th {\n",
       "        text-align: right;\n",
       "    }\n",
       "\n",
       "    .dataframe thead th {\n",
       "        text-align: left;\n",
       "    }\n",
       "\n",
       "    .dataframe tbody tr th {\n",
       "        vertical-align: top;\n",
       "    }\n",
       "</style>\n",
       "<table border=\"1\" class=\"dataframe\">\n",
       "  <thead>\n",
       "    <tr style=\"text-align: right;\">\n",
       "      <th></th>\n",
       "      <th></th>\n",
       "      <th></th>\n",
       "      <th>count</th>\n",
       "      <th>sum</th>\n",
       "    </tr>\n",
       "    <tr>\n",
       "      <th>Item Name</th>\n",
       "      <th>Item ID</th>\n",
       "      <th>Price</th>\n",
       "      <th></th>\n",
       "      <th></th>\n",
       "    </tr>\n",
       "  </thead>\n",
       "  <tbody>\n",
       "    <tr>\n",
       "      <th>Betrayal, Whisper of Grieving Widows</th>\n",
       "      <th>39</th>\n",
       "      <th>2.35</th>\n",
       "      <td>11</td>\n",
       "      <td>25.85</td>\n",
       "    </tr>\n",
       "    <tr>\n",
       "      <th>Arcane Gem</th>\n",
       "      <th>84</th>\n",
       "      <th>2.23</th>\n",
       "      <td>11</td>\n",
       "      <td>24.53</td>\n",
       "    </tr>\n",
       "    <tr>\n",
       "      <th>Retribution Axe</th>\n",
       "      <th>34</th>\n",
       "      <th>4.14</th>\n",
       "      <td>9</td>\n",
       "      <td>37.26</td>\n",
       "    </tr>\n",
       "    <tr>\n",
       "      <th>Trickster</th>\n",
       "      <th>31</th>\n",
       "      <th>2.07</th>\n",
       "      <td>9</td>\n",
       "      <td>18.63</td>\n",
       "    </tr>\n",
       "    <tr>\n",
       "      <th>Serenity</th>\n",
       "      <th>13</th>\n",
       "      <th>1.49</th>\n",
       "      <td>9</td>\n",
       "      <td>13.41</td>\n",
       "    </tr>\n",
       "  </tbody>\n",
       "</table>\n",
       "</div>"
      ],
      "text/plain": [
       "                                                    count    sum\n",
       "Item Name                            Item ID Price              \n",
       "Betrayal, Whisper of Grieving Widows 39      2.35      11  25.85\n",
       "Arcane Gem                           84      2.23      11  24.53\n",
       "Retribution Axe                      34      4.14       9  37.26\n",
       "Trickster                            31      2.07       9  18.63\n",
       "Serenity                             13      1.49       9  13.41"
      ]
     },
     "execution_count": 78,
     "metadata": {},
     "output_type": "execute_result"
    }
   ],
   "source": [
    "#Most Popular Items\n",
    "pop_groups = df_1.groupby(['Item Name','Item ID','Price']).Price.agg(['count','sum']).sort_values(by='count', ascending=False)\n",
    "pop_groups.head(5)"
   ]
  },
  {
   "cell_type": "code",
   "execution_count": 79,
   "metadata": {},
   "outputs": [
    {
     "data": {
      "text/html": [
       "<div>\n",
       "<style>\n",
       "    .dataframe thead tr:only-child th {\n",
       "        text-align: right;\n",
       "    }\n",
       "\n",
       "    .dataframe thead th {\n",
       "        text-align: left;\n",
       "    }\n",
       "\n",
       "    .dataframe tbody tr th {\n",
       "        vertical-align: top;\n",
       "    }\n",
       "</style>\n",
       "<table border=\"1\" class=\"dataframe\">\n",
       "  <thead>\n",
       "    <tr style=\"text-align: right;\">\n",
       "      <th></th>\n",
       "      <th></th>\n",
       "      <th></th>\n",
       "      <th>count</th>\n",
       "      <th>sum</th>\n",
       "    </tr>\n",
       "    <tr>\n",
       "      <th>Item Name</th>\n",
       "      <th>Item ID</th>\n",
       "      <th>Price</th>\n",
       "      <th></th>\n",
       "      <th></th>\n",
       "    </tr>\n",
       "  </thead>\n",
       "  <tbody>\n",
       "    <tr>\n",
       "      <th>Retribution Axe</th>\n",
       "      <th>34</th>\n",
       "      <th>4.14</th>\n",
       "      <td>9</td>\n",
       "      <td>37.26</td>\n",
       "    </tr>\n",
       "    <tr>\n",
       "      <th>Spectral Diamond Doomblade</th>\n",
       "      <th>115</th>\n",
       "      <th>4.25</th>\n",
       "      <td>7</td>\n",
       "      <td>29.75</td>\n",
       "    </tr>\n",
       "    <tr>\n",
       "      <th>Orenmir</th>\n",
       "      <th>32</th>\n",
       "      <th>4.95</th>\n",
       "      <td>6</td>\n",
       "      <td>29.70</td>\n",
       "    </tr>\n",
       "    <tr>\n",
       "      <th>Singed Scalpel</th>\n",
       "      <th>103</th>\n",
       "      <th>4.87</th>\n",
       "      <td>6</td>\n",
       "      <td>29.22</td>\n",
       "    </tr>\n",
       "    <tr>\n",
       "      <th>Splitter, Foe Of Subtlety</th>\n",
       "      <th>107</th>\n",
       "      <th>3.61</th>\n",
       "      <td>8</td>\n",
       "      <td>28.88</td>\n",
       "    </tr>\n",
       "  </tbody>\n",
       "</table>\n",
       "</div>"
      ],
      "text/plain": [
       "                                          count    sum\n",
       "Item Name                  Item ID Price              \n",
       "Retribution Axe            34      4.14       9  37.26\n",
       "Spectral Diamond Doomblade 115     4.25       7  29.75\n",
       "Orenmir                    32      4.95       6  29.70\n",
       "Singed Scalpel             103     4.87       6  29.22\n",
       "Splitter, Foe Of Subtlety  107     3.61       8  28.88"
      ]
     },
     "execution_count": 79,
     "metadata": {},
     "output_type": "execute_result"
    }
   ],
   "source": [
    "#Most Profitable Items\n",
    "#Most Popular Items\n",
    "pop_groups = df_1.groupby(['Item Name','Item ID','Price']).Price.agg(['count','sum']).sort_values(by='sum', ascending=False)\n",
    "pop_groups.head(5)"
   ]
  },
  {
   "cell_type": "code",
   "execution_count": 80,
   "metadata": {},
   "outputs": [
    {
     "name": "stdout",
     "output_type": "stream",
     "text": [
      "THREE OBERVATIONS FROM THE ANALYSIS\n",
      "\n",
      "1. Males represent the largest gender of purchasers.\n",
      "2. The \"College\" aged group represents 39% (902.61/2286.33) of total dollar sales.\n",
      "3. \"Betrayal, Whisper ...\" is the most popular title sold.\n"
     ]
    }
   ],
   "source": [
    "\n",
    "print('THREE OBERVATIONS FROM THE ANALYSIS')\n",
    "print(\"\")\n",
    "print('1. Males represent the largest gender of purchasers.')\n",
    "\n",
    "print('2. The \"College\" aged group represents 39% (902.61/2286.33) of total dollar sales.')\n",
    "\n",
    "print('3. \"Betrayal, Whisper ...\" is the most popular title sold.')"
   ]
  },
  {
   "cell_type": "code",
   "execution_count": null,
   "metadata": {},
   "outputs": [],
   "source": [
    "\n"
   ]
  },
  {
   "cell_type": "code",
   "execution_count": null,
   "metadata": {
    "collapsed": true
   },
   "outputs": [],
   "source": []
  }
 ],
 "metadata": {
  "kernelspec": {
   "display_name": "Python 3",
   "language": "python",
   "name": "python3"
  },
  "language_info": {
   "codemirror_mode": {
    "name": "ipython",
    "version": 3
   },
   "file_extension": ".py",
   "mimetype": "text/x-python",
   "name": "python",
   "nbconvert_exporter": "python",
   "pygments_lexer": "ipython3",
   "version": "3.6.3"
  }
 },
 "nbformat": 4,
 "nbformat_minor": 2
}
